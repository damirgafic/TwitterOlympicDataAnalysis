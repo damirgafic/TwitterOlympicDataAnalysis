{
 "cells": [
  {
   "cell_type": "code",
   "execution_count": null,
   "metadata": {},
   "outputs": [],
   "source": [
    "#!pip install -U kafka-python\n",
    "#!pip install --force-reinstall pyspark==2.4.4"
   ]
  },
  {
   "cell_type": "code",
   "execution_count": 1,
   "metadata": {},
   "outputs": [],
   "source": [
    "import os\n",
    "import sys\n",
    "os.environ[\"SPARK_HOME\"]=\"/home/user1/trainig_material/spark-2.4.4-bin-hadoop2.7\"\n",
    "os.environ[\"PYLIB\"] = os.environ[\"SPARK_HOME\"] + \"/python/lib\"\n",
    "sys.path.insert(0, os.environ[\"PYLIB\"] +\"/py4j-0.10.7-src.zip\")\n",
    "sys.path.insert(0, os.environ[\"PYLIB\"] +\"/pyspark.zip\")\n",
    "os.environ['PYSPARK_SUBMIT_ARGS'] = '--packages org.apache.spark:spark-streaming-kafka-0-8_2.11:2.4.4 pyspark-shell'"
   ]
  },
  {
   "cell_type": "code",
   "execution_count": 2,
   "metadata": {},
   "outputs": [],
   "source": [
    "import pandas as pd\n",
    "from datetime import datetime, timedelta\n",
    "import json\n",
    "\n",
    "import tweepy\n",
    "from tweepy import OAuthHandler\n",
    "from tweepy.streaming import StreamListener\n",
    "from tweepy import OAuthHandler\n",
    "from tweepy import Stream\n",
    "from textblob import TextBlob\n",
    "\n",
    "from kafka import KafkaClient\n",
    "from kafka import KafkaProducer\n",
    "from kafka import KafkaConsumer\n",
    "from kafka import TopicPartition\n",
    "from kafka.errors import KafkaError"
   ]
  },
  {
   "cell_type": "code",
   "execution_count": 3,
   "metadata": {},
   "outputs": [],
   "source": [
    "from kafka import KafkaConsumer\n",
    "import json\n",
    "# Spark\n",
    "from pyspark import SparkContext, SparkConf\n",
    "# Spark Streaming\n",
    "from pyspark.streaming import StreamingContext\n",
    "# Kafka\n",
    "from pyspark.streaming.kafka import KafkaUtils\n",
    "# json parsing\n",
    "from pyspark.sql import Row,SQLContext"
   ]
  },
  {
   "cell_type": "markdown",
   "metadata": {},
   "source": [
    "## Use spark streaming to get an understanding of the twitter data"
   ]
  },
  {
   "cell_type": "code",
   "execution_count": 4,
   "metadata": {},
   "outputs": [],
   "source": [
    "def createContext():\n",
    "    sc = SparkContext(appName=\"TwitterApp\")\n",
    "    sc.setLogLevel(\"WARN\")\n",
    "    ssc = StreamingContext(sc, 5)\n",
    "    \n",
    "    # Define Kafka Consumer\n",
    "    kafkaStream = KafkaUtils.createStream(ssc, 'localhost:2181', 'spark-streaming', {'proj':1})\n",
    "    \n",
    "    ## --- Processing\n",
    "    # Extract tweets\n",
    "    parsed = kafkaStream.map(lambda v: json.loads(v[1]))\n",
    "    \n",
    "    # Count number of tweets in the batch\n",
    "    count_this_batch = kafkaStream.count().map(lambda x:('Tweets this batch: %s' % x))\n",
    "    \n",
    "    # Count by windowed time period\n",
    "    count_windowed = kafkaStream.countByWindow(60,5).map(lambda x:('Tweets total (One minute rolling count): %s' % x))\n",
    "\n",
    "    # Get authors\n",
    "    authors_dstream = parsed.map(lambda tweet: tweet['user']['screen_name'])\n",
    "    \n",
    "    # Count each value and number of occurences \n",
    "    count_values_this_batch = authors_dstream.countByValue()\\\n",
    "                                .transform(lambda rdd:rdd\\\n",
    "                                  .sortBy(lambda x:-x[1]))\\\n",
    "                              .map(lambda x:\"Author counts this batch:\\tValue %s\\tCount %s\" % (x[0],x[1]))\n",
    "\n",
    "    # Count each value and number of occurences in the batch windowed\n",
    "    count_values_windowed = authors_dstream.countByValueAndWindow(60,5)\\\n",
    "                                .transform(lambda rdd:rdd\\\n",
    "                                  .sortBy(lambda x:-x[1]))\\\n",
    "                            .map(lambda x:\"Author counts (One minute rolling):\\tValue %s\\tCount %s\" % (x[0],x[1]))\n",
    "\n",
    "    # Write total tweet counts to stdout\n",
    "    # Done with a union here instead of two separate pprint statements just to make it cleaner to display\n",
    "    count_this_batch.union(count_windowed).pprint()\n",
    "\n",
    "    # Write tweet author counts to stdout\n",
    "    count_values_this_batch.pprint(5)\n",
    "    count_values_windowed.pprint(5)\n",
    "    \n",
    "    return ssc"
   ]
  },
  {
   "cell_type": "markdown",
   "metadata": {},
   "source": [
    "## Shows streaming values for one minute batches and one minute rolling"
   ]
  },
  {
   "cell_type": "code",
   "execution_count": null,
   "metadata": {
    "scrolled": true
   },
   "outputs": [],
   "source": [
    "ssc = StreamingContext.getOrCreate('/tmp/checkpoint_v02',lambda: createContext())\n",
    "ssc.start()\n",
    "ssc.awaitTermination(timeout=180)"
   ]
  },
  {
   "cell_type": "code",
   "execution_count": null,
   "metadata": {},
   "outputs": [],
   "source": [
    "ssc.stop()"
   ]
  },
  {
   "cell_type": "markdown",
   "metadata": {},
   "source": [
    "## Create consumer"
   ]
  },
  {
   "cell_type": "code",
   "execution_count": 5,
   "metadata": {},
   "outputs": [],
   "source": [
    "sc = SparkContext(appName=\"twitter\")\n",
    "ssc = StreamingContext(sc, 30)"
   ]
  },
  {
   "cell_type": "code",
   "execution_count": 6,
   "metadata": {},
   "outputs": [],
   "source": [
    "from pyspark.sql import SparkSession\n",
    "spark = SparkSession.builder.enableHiveSupport().getOrCreate()"
   ]
  },
  {
   "cell_type": "code",
   "execution_count": 7,
   "metadata": {
    "scrolled": true
   },
   "outputs": [
    {
     "name": "stdout",
     "output_type": "stream",
     "text": [
      "30 second window:\n",
      "+--------------------+--------------------+--------------------+-------------------+-------------------+\n",
      "|          Event_time|            Hashtags|                Text|            TweetID|             UserID|\n",
      "+--------------------+--------------------+--------------------+-------------------+-------------------+\n",
      "|Tue Jul 27 19:12:...|    StrongerTogether|RT @Olympics: Did...|1420099677043703812|1412261447254614016|\n",
      "|Tue Jul 27 19:12:...|            Olympics|Can Lutalo Muhamm...|1420099682039209990|          413809300|\n",
      "|Tue Jul 27 19:12:...|                 NGA|RT @Olympics: Coa...|1420099682840240129|1345700670029103105|\n",
      "|Tue Jul 27 19:12:...|              Silver|RT @Olympics: #Si...|1420099682999676936|           63890475|\n",
      "|Tue Jul 27 19:12:...|           Tokyo2020|RT @CubaSolidarit...|1420099683414953987|           21202355|\n",
      "|Tue Jul 27 19:12:...|             surfing|RT @Olympics: We ...|1420099685243445249|1229014788539174912|\n",
      "|Tue Jul 27 19:12:...|                 TPE|RT @Olympics: Che...|1420099687642664960|         3067872620|\n",
      "|Tue Jul 27 19:12:...|            Olympics|RT @martyduren: L...|1420099688351547397|         4840388273|\n",
      "|Tue Jul 27 19:12:...|           Tokyo2020|RT @nytimes: Brea...|1420099688305397765|          468095215|\n",
      "|Tue Jul 27 19:12:...|            Olympics|RT @ajplus: Alger...|1420099688632565762| 819633654314008576|\n",
      "|Tue Jul 27 19:12:...|            Olympics|RT @ajplus: Alger...|1420099689068867585| 791656012533170176|\n",
      "|Tue Jul 27 19:12:...|              TeamGB|RT @TeamGB: Top o...|1420099689081446407|          385811349|\n",
      "|Tue Jul 27 19:12:...|BoycottTokyoOlymp...|RT @178kakapo: #B...|1420099689232408577|         2858606275|\n",
      "|Tue Jul 27 19:12:...|            Olympics|RT @alliecraigsli...|1420099689433681921|          194573703|\n",
      "|Tue Jul 27 19:12:...|             Dreamer|BLUE SUMMER WITH ...|1420099692365590531|         1389790038|\n",
      "|Tue Jul 27 19:12:...|        MaineMendoza|RT @stargirl_v: @...|1420099693179191302|1007507591822536704|\n",
      "|Tue Jul 27 19:12:...|                Nets|RT @NYPost_Lewis:...|1420099695121211393|1398061324521906176|\n",
      "|Tue Jul 27 19:12:...|          Volleyball|RT @LMsources: Se...|1420099696970715137|1349989050980003842|\n",
      "|Tue Jul 27 19:12:...|            Malaysia|RT @Ostrov_A: Oh,...|1420099697482498050|          981948554|\n",
      "|Tue Jul 27 19:12:...|            Olympics|RT @enews: Celebr...|1420099698610909196| 926952543158243328|\n",
      "+--------------------+--------------------+--------------------+-------------------+-------------------+\n",
      "only showing top 20 rows\n",
      "\n",
      "30 second window:\n",
      "+--------------------+------------------+--------------------+-------------------+-------------------+\n",
      "|          Event_time|          Hashtags|                Text|            TweetID|             UserID|\n",
      "+--------------------+------------------+--------------------+-------------------+-------------------+\n",
      "|Tue Jul 27 19:12:...|      CopperQueens|RT @Chaingaz: We ...|1420099812041625609|          409848084|\n",
      "|Tue Jul 27 19:12:...|     FreebieFriday|RT @DenmanBrush: ...|1420099817347375119|         3358561450|\n",
      "|Tue Jul 27 19:12:...|          Olympics|Dressage surely i...|1420099819327086599|           78669692|\n",
      "|Tue Jul 27 19:12:...|          Olympics|Expert Picks → #O...|1420099821487071234|           34313018|\n",
      "|Tue Jul 27 19:12:...|          Olympics|How is dressage a...|1420099822284156935|          244517243|\n",
      "|Tue Jul 27 19:12:...|          Olympics|RT @ajplus: Alger...|1420099823148142598|          247104369|\n",
      "|Tue Jul 27 19:12:...|         Taekwondo|Loved watching @L...|1420099826772058118|           50346259|\n",
      "|Tue Jul 27 19:12:...|          Olympics|Me listening to L...|1420099833503813636|          182379030|\n",
      "|Tue Jul 27 19:12:...|         Tokyo2020|RT @CocaCola_ZA: ...|1420099838675460097|          107402433|\n",
      "|Tue Jul 27 19:12:...|          Olympics|RT @folkypunkcas:...|1420099839128489985| 893427330756071430|\n",
      "|Tue Jul 27 19:12:...|               SUI|RT @Olympics: Lin...|1420099840734683136|1229014788539174912|\n",
      "|Tue Jul 27 19:12:...|       SimoneBiles|Best wishes to my...|1420099840961257472|         2354415709|\n",
      "|Tue Jul 27 19:12:...|          Olympics|RT @NBCSportsSocc...|1420099841317691395|          886011235|\n",
      "|Tue Jul 27 19:12:...|               rhp|#rhp Greta Cecche...|1420099841007493122|         3646667540|\n",
      "|Tue Jul 27 19:12:...|       HidilynDiaz|RT @AxieRetreat: ...|1420099843414888450|1388940564330999810|\n",
      "|Tue Jul 27 19:12:...|             USWNT|RT @LAT_Iliana: ....|1420099843712712704|1075437405782437888|\n",
      "|Tue Jul 27 19:12:...|         Tokyo2020|RT @ProCyclingSta...|1420099843771404289|1388548812164141057|\n",
      "|Tue Jul 27 19:12:...|tuesdaymotivations|@holland_barrett ...|1420099845889658880|1417213757172891648|\n",
      "|Tue Jul 27 19:12:...|          Olympics|RT @GQSports: Obv...|1420099847726772229|           21701757|\n",
      "|Tue Jul 27 19:12:...|          Olympics|Beat that, #Olymp...|1420099854999724037|         3298122029|\n",
      "+--------------------+------------------+--------------------+-------------------+-------------------+\n",
      "only showing top 20 rows\n",
      "\n",
      "30 second window:\n",
      "+--------------------+----------------+--------------------+-------------------+-------------------+\n",
      "|          Event_time|        Hashtags|                Text|            TweetID|             UserID|\n",
      "+--------------------+----------------+--------------------+-------------------+-------------------+\n",
      "|Tue Jul 27 19:13:...|             NGA|RT @Olympics: Coa...|1420099946989199371|         1681515072|\n",
      "|Tue Jul 27 19:13:...|            FIFA|RT @hectorvivas24...|1420099948780138513|           65270854|\n",
      "|Tue Jul 27 19:13:...|       Tokyo2020|RT @CubaSolidarit...|1420099949082157058| 777591594195095553|\n",
      "|Tue Jul 27 19:13:...|StrongerTogether|RT @Olympics: Did...|1420099949144858628|         2767171734|\n",
      "|Tue Jul 27 19:13:...|        Olympics|RT @ajplus: Alger...|1420099949447061504|          117127052|\n",
      "|Tue Jul 27 19:13:...|        Olympics|RT @VisitUganda: ...|1420099951405711361|          137264482|\n",
      "|Tue Jul 27 19:13:...|       Tokyo2020|RT @UN: At the #T...|1420099953775583235|1267815789496725504|\n",
      "|Tue Jul 27 19:13:...|           abc15|LIST: Arizona ath...|1420099950956859397|            9721292|\n",
      "|Tue Jul 27 19:13:...|        Olympics|RT @ITFTennis: Mo...|1420099954094350336|         2197807779|\n",
      "|Tue Jul 27 19:13:...|        Olympics|@AlexScott doing ...|1420099955650437122|          242260992|\n",
      "|Tue Jul 27 19:13:...|        Olympics|RT @ajplus: Alger...|1420099961711116289|          566478974|\n",
      "|Tue Jul 27 19:13:...|       Tokyo2020|RT @KirenRijiju: ...|1420099967339831299|         2601077455|\n",
      "|Tue Jul 27 19:13:...|        Olympics|RT @ajplus: Alger...|1420099969579692037|         2276398980|\n",
      "|Tue Jul 27 19:13:...|          teamgb|As it's the @Olym...|1420099970145869825|          167544330|\n",
      "|Tue Jul 27 19:13:...|         Beijing|RT @IndoPac_Info:...|1420099972272250881|1020487706671865857|\n",
      "|Tue Jul 27 19:13:...|             NGA|RT @Olympics: Coa...|1420099974663184384|           48066452|\n",
      "|Tue Jul 27 19:13:...|        Olympics|@Simone_Biles Mor...|1420099979301965826|1251166183597813760|\n",
      "|Tue Jul 27 19:13:...|           abc15|RT @abc15: LIST: ...|1420099981092872194|           25113456|\n",
      "|Tue Jul 27 19:13:...|       Tokyo2020|RT @ITFTennis: Di...|1420099981755756545|1018242338278256640|\n",
      "|Tue Jul 27 19:13:...|        Olympics|RT @Tokyo2020hi: ...|1420099981935972355|         2865086833|\n",
      "+--------------------+----------------+--------------------+-------------------+-------------------+\n",
      "only showing top 20 rows\n",
      "\n",
      "30 second window:\n",
      "+--------------------+----------------+--------------------+-------------------+-------------------+\n",
      "|          Event_time|        Hashtags|                Text|            TweetID|             UserID|\n",
      "+--------------------+----------------+--------------------+-------------------+-------------------+\n",
      "|Tue Jul 27 19:13:...|    DriveYouHome|RT @OnAirJRDN: Th...|1420100056493871104|           22338857|\n",
      "|Tue Jul 27 19:13:...|     lebronjames|RT @goverment_is:...|1420100063649357824|1348502724078395397|\n",
      "|Tue Jul 27 19:13:...|        Olympics|Stepping away fro...|1420100066136702981|           54990754|\n",
      "|Tue Jul 27 19:13:...|    OlympicGames|This is why I lov...|1420100068703625217|         1709906928|\n",
      "|Tue Jul 27 19:13:...|       Tokyo2020|RT @ITFMedia: Tod...|1420100071513804800|          496131849|\n",
      "|Tue Jul 27 19:13:...|   TokyoOlympics|#TokyoOlympics Da...|1420100073829007361|         2532884354|\n",
      "|Tue Jul 27 19:13:...|        Olympics|RT @NBCSportsSocc...|1420100082112815104|           20597234|\n",
      "|Tue Jul 27 19:13:...|          Taiwan|RT @MOFA_Taiwan: ...|1420100084985851906|1131698875155116032|\n",
      "|Tue Jul 27 19:13:...|        Olympics|RT @AFP: Caught o...|1420100088026714117|         1955819042|\n",
      "|Tue Jul 27 19:13:...|        Olympics|Watching the #Oly...|1420100091495469057|          592685701|\n",
      "|Tue Jul 27 19:13:...|  OlympicsOnHITZ|RT @hitzdotmy: #O...|1420100092627886081|         2536888028|\n",
      "|Tue Jul 27 19:13:...|        Olympics|RT @bagshaw2112: ...|1420100093223505920|          332532123|\n",
      "|Tue Jul 27 19:13:...|         Beijing|RT @IndoPac_Info:...|1420100096377692166| 765129881290170369|\n",
      "|Tue Jul 27 19:13:...|sinkovicbrothers|RT @SinkovicBros:...|1420100106376945668|          266081535|\n",
      "|Tue Jul 27 19:13:...|            Poll|Imagine there's (...|1420100111133249542|         2833305934|\n",
      "|Tue Jul 27 19:13:...|        Olympics|RT @folkypunkcas:...|1420100115289804803|         1874706116|\n",
      "|Tue Jul 27 19:13:...|        managers|RT @HarvardHBS: S...|1420100115533029387|           24189159|\n",
      "|Tue Jul 27 19:13:...|             NGA|RT @Olympics: Coa...|1420100120604024833|         3469209694|\n",
      "|Tue Jul 27 19:13:...|       Tokyo2020|RT @KirenRijiju: ...|1420100122386460673| 713068848077889536|\n",
      "|Tue Jul 27 19:13:...|      StockSmart|#StockSmart Daily...|1420100124047380482|1362839318524387328|\n",
      "+--------------------+----------------+--------------------+-------------------+-------------------+\n",
      "only showing top 20 rows\n",
      "\n"
     ]
    },
    {
     "name": "stdout",
     "output_type": "stream",
     "text": [
      "30 second window:\n",
      "+--------------------+---------------+--------------------+-------------------+-------------------+\n",
      "|          Event_time|       Hashtags|                Text|            TweetID|             UserID|\n",
      "+--------------------+---------------+--------------------+-------------------+-------------------+\n",
      "|Tue Jul 27 19:14:...|       Olympics|RT @folkypunkcas:...|1420100180360286210|         2314884479|\n",
      "|Tue Jul 27 19:14:...|    bbcolympics|RT @BBCSport: .@T...|1420100180855115778|           70214615|\n",
      "|Tue Jul 27 19:14:...|    SimoneBiles|RT @Tokyo2020: It...|1420100183321423879|           78397748|\n",
      "|Tue Jul 27 19:14:...|   SaeidMollaei|RT @Saeed_Juventi...|1420100185275908100|1115709805564387328|\n",
      "|Tue Jul 27 19:14:...|    dreamfanart|RT @Mendiii5: Mrs...|1420100185967894530|1291672509088071680|\n",
      "|Tue Jul 27 19:14:...|            USA|It seem like ever...|1420100189973487621|1271509111075508224|\n",
      "|Tue Jul 27 19:14:...|      Tokyo2020|RT @ngcproject: W...|1420100190824923147|         3080321999|\n",
      "|Tue Jul 27 19:14:...|       Olympics|RT @MLS: The road...|1420100191022063622|         2153716742|\n",
      "|Tue Jul 27 19:14:...|RefugeesWelcome|What a young woma...|1420100192179732482| 743496481106178048|\n",
      "|Tue Jul 27 19:14:...|            PHI|RT @tonyocruz: TH...|1420100193618305026|         3323350742|\n",
      "|Tue Jul 27 19:14:...|    SimoneBiles|RT @DineshDSouza:...|1420100201747001352|          261004480|\n",
      "|Tue Jul 27 19:14:...|    philosopher|RT @ASU_SHPRS: Sp...|1420100203655229441|          637271378|\n",
      "|Tue Jul 27 19:14:...|       Olympics|RT @folkypunkcas:...|1420100203902865413|1114526869834092545|\n",
      "|Tue Jul 27 19:14:...|   OlympicGames|RT @Marc_Spackman...|1420100205702230019|          718706646|\n",
      "|Tue Jul 27 19:14:...|       Olympics|RT @ajplus: Alger...|1420100207157542918|         1254989060|\n",
      "|Tue Jul 27 19:14:...|       Shooting|RT @Olympics: ROC...|1420100207446958084|1229014788539174912|\n",
      "|Tue Jul 27 19:14:...|      Tokyo2020|RT @FIFAWWC: 🙇‍♀...|1420100208860483595|1255942080637161473|\n",
      "|Tue Jul 27 19:14:...|          ONEV1|RT @liberte_ny: ?...|1420100209388965890|1245422747238518784|\n",
      "|Tue Jul 27 19:14:...|       Olympics|I’m sorry, but ho...|1420100210357899266|          438605447|\n",
      "|Tue Jul 27 19:14:...|       Giveaway|RT @firstclasswat...|1420100210462707717| 860522212813660165|\n",
      "+--------------------+---------------+--------------------+-------------------+-------------------+\n",
      "only showing top 20 rows\n",
      "\n",
      "30 second window:\n",
      "+--------------------+------------+--------------------+-------------------+-------------------+\n",
      "|          Event_time|    Hashtags|                Text|            TweetID|             UserID|\n",
      "+--------------------+------------+--------------------+-------------------+-------------------+\n",
      "|Tue Jul 27 19:14:...|    Olympics|RT @GMA: Team USA...|1420100308752027650|          377449766|\n",
      "|Tue Jul 27 19:14:...|SaeidMollaei|RT @MessageFromLe...|1420100309217685507|         1378924891|\n",
      "|Tue Jul 27 19:14:...|         NGA|RT @Olympics: Coa...|1420100310744326144|1355004134274031618|\n",
      "|Tue Jul 27 19:14:...| israelkoyak|RT @arifhaynes: O...|1420100318457581569|          981948554|\n",
      "|Tue Jul 27 19:14:...|    Olympics|@JTar2_ @SportsCe...|1420100321494319105|           46063934|\n",
      "|Tue Jul 27 19:14:...|breakingnews|RT @breaknnews1: ...|1420100323180437512|1383447294205304837|\n",
      "|Tue Jul 27 19:14:...|    Olympics|RT @folkypunkcas:...|1420100330956668935|           74563213|\n",
      "|Tue Jul 27 19:14:...|   Tokyo2020|RT @Olympics: You...|1420100331430506496|1359827451405164550|\n",
      "|Tue Jul 27 19:14:...|    Olympics|RT @PurpleMixPrin...|1420100332466622470|1333559983926079491|\n",
      "|Tue Jul 27 19:14:...|    Olympics|I wonder if when ...|1420100337596252160|          257601498|\n",
      "|Tue Jul 27 19:14:...|    Olympics|Tomorrow it’s on ...|1420100338925846532|           35259329|\n",
      "|Tue Jul 27 19:14:...|    olympics|RT @preetiddahiya...|1420100339512971266|1187907294463266816|\n",
      "|Tue Jul 27 19:14:...|DriveYouHome|RT @OnAirJRDN: Th...|1420100345808576513|         2356589318|\n",
      "|Tue Jul 27 19:14:...|    Olympics|The #Olympics are...|1420100350070165510|          558257832|\n",
      "|Tue Jul 27 19:14:...|    Olympics|RT @folkypunkcas:...|1420100351081041924|          617002284|\n",
      "|Tue Jul 27 19:14:...|    Olympics|RT @stats_feed: #...|1420100351437545475|          630345410|\n",
      "|Tue Jul 27 19:14:...|         BTS|RT @BIGHIT_INFO: ...|1420100352003567617|1157233641014980608|\n",
      "|Tue Jul 27 19:14:...|    Olympics|RT @CarolineSiede...|1420100352746180609|           19733341|\n",
      "|Tue Jul 27 19:14:...|       china|#china \n",
      "https://t...|1420100357284274177|         4148621113|\n",
      "|Tue Jul 27 19:14:...|    Olympics|RT @ajplus: Alger...|1420100358269964293|         2724866024|\n",
      "+--------------------+------------+--------------------+-------------------+-------------------+\n",
      "only showing top 20 rows\n",
      "\n",
      "30 second window:\n",
      "+--------------------+------------+--------------------+-------------------+-------------------+\n",
      "|          Event_time|    Hashtags|                Text|            TweetID|             UserID|\n",
      "+--------------------+------------+--------------------+-------------------+-------------------+\n",
      "|Tue Jul 27 19:15:...|    Olympics|RT @Chasten: Noth...|1420100433448783877|          325258891|\n",
      "|Tue Jul 27 19:15:...|    Olympics|RT @SportatStirli...|1420100439299796996|          366758146|\n",
      "|Tue Jul 27 19:15:...|    Olympics|Really don’t thin...|1420100449357737988|          238834736|\n",
      "|Tue Jul 27 19:15:...|      JAEMIN|RT @Jaeminisluv: ...|1420100451542855684|1354372771925680130|\n",
      "|Tue Jul 27 19:15:...|   Tokyo2020|RT @BBCSport: Thi...|1420100456223711233|         1912522274|\n",
      "|Tue Jul 27 19:15:...|DriveYouHome|RT @OnAirJRDN: Th...|1420100457842626561|1058375847583739905|\n",
      "|Tue Jul 27 19:15:...|    Olympics|I will do b2b lin...|1420100457591017473|1298941472314515456|\n",
      "|Tue Jul 27 19:15:...|    Olympics|RT @ajplus: Alger...|1420100458618687493|           26674070|\n",
      "|Tue Jul 27 19:15:...|OlympicGames|RT @TimJDillon: M...|1420100460053155841|         2214755390|\n",
      "|Tue Jul 27 19:15:...|     Dreamer|BLUE SUMMER WITH ...|1420100461244428291|         1389790038|\n",
      "|Tue Jul 27 19:15:...|        Gold|RT @RyanFieldABC:...|1420100464578813957|         1967188279|\n",
      "|Tue Jul 27 19:15:...|      Bronze|RT @Olympics: #Br...|1420100467015618563|1229014788539174912|\n",
      "|Tue Jul 27 19:15:...|    Olympics|RT @ajplus: Alger...|1420100467258970119|         2738439425|\n",
      "|Tue Jul 27 19:15:...|        gold|RT @ElizbethjmSmi...|1420100472430546954|          299193797|\n",
      "|Tue Jul 27 19:15:...|     Olympic|RT @usasurfteam: ...|1420100472468385798|          327552050|\n",
      "|Tue Jul 27 19:15:...|yusramardini|RT @meralhece: In...|1420100473315594242|           36200005|\n",
      "|Tue Jul 27 19:15:...|   Tokyo2020|RT @FIFAWWC: 🙇‍♀...|1420100475618213894|           14480221|\n",
      "|Tue Jul 27 19:15:...|    Olympics|When an Australia...|1420100477828702218|           16299275|\n",
      "|Tue Jul 27 19:15:...|         ITA|RT @Olympics: Con...|1420100481049710592|1229014788539174912|\n",
      "|Tue Jul 27 19:15:...|   Tokyo2021|I'm watching #Tok...|1420100484929449984| 862069781540741120|\n",
      "+--------------------+------------+--------------------+-------------------+-------------------+\n",
      "only showing top 20 rows\n",
      "\n",
      "30 second window:\n",
      "+--------------------+-------------+--------------------+-------------------+-------------------+\n",
      "|          Event_time|     Hashtags|                Text|            TweetID|             UserID|\n",
      "+--------------------+-------------+--------------------+-------------------+-------------------+\n",
      "|Tue Jul 27 19:15:...|     Olympics|RT @LMFireSystems...|1420100561517559812|1069978058822705152|\n",
      "|Tue Jul 27 19:15:...|     Olympics|RT @teamyulk: sin...|1420100561701982214|         2807407490|\n",
      "|Tue Jul 27 19:15:...|     Olympics|RT @JeffDLowe: #O...|1420100562838822913|           37609721|\n",
      "|Tue Jul 27 19:15:...|       Hawaii|RT @StarAdvertise...|1420100564243804162|          613796686|\n",
      "|Tue Jul 27 19:15:...|     Olympics|RT @ajplus: Alger...|1420100565154074630|           45365156|\n",
      "|Tue Jul 27 19:15:...|     Olympics|RT @DionneGrant: ...|1420100565414125571|         2874099137|\n",
      "|Tue Jul 27 19:15:...|     Olympics|RT @ajplus: Germa...|1420100567259435009|          972830029|\n",
      "|Tue Jul 27 19:15:...|         Judo|RT @wlv_alumni: C...|1420100571357487111|1351919776034140161|\n",
      "|Tue Jul 27 19:15:...|  dreamfanart|RT @Mendiii5: Mrs...|1420100578080854034|1198567821388787712|\n",
      "|Tue Jul 27 19:15:...|TokyoOlympics|RT @FallonTonight...|1420100582719647746|1315185833213931520|\n",
      "|Tue Jul 27 19:15:...|      Sailing|#Sailing \n",
      "After 2...|1420100594879148035|1018833763336380417|\n",
      "|Tue Jul 27 19:15:...|          AUT|RT @Olympics: Sha...|1420100601262710784|1229014788539174912|\n",
      "|Tue Jul 27 19:15:...|  dreamfanart|RT @Mendiii5: Mrs...|1420100602273615879|1334041522006798344|\n",
      "|Tue Jul 27 19:15:...| DriveYouHome|RT @OnAirJRDN: Th...|1420100603317993473|1378486841482043399|\n",
      "|Tue Jul 27 19:15:...|  bbcolympics|😂\n",
      "Why can't all ...|1420100604937003020|          131928886|\n",
      "|Tue Jul 27 19:15:...|     Olympics|At this point, th...|1420100608443535368|           62877804|\n",
      "|Tue Jul 27 19:15:...|      TeamUSA|Lakeville's Regan...|1420100610012160001|           18993234|\n",
      "|Tue Jul 27 19:15:...|       bronze|RT @Olympics: It’...|1420100613065433089|1229014788539174912|\n",
      "|Tue Jul 27 19:15:...|     Olympics|RT @Africa4Pal: ?...|1420100617217839104|1399908172958244867|\n",
      "|Tue Jul 27 19:15:...|     Olympics|RT @nancywyuen: C...|1420100619356971009|            6681002|\n",
      "+--------------------+-------------+--------------------+-------------------+-------------------+\n",
      "only showing top 20 rows\n",
      "\n"
     ]
    },
    {
     "name": "stdout",
     "output_type": "stream",
     "text": [
      "30 second window:\n",
      "+--------------------+----------------+--------------------+-------------------+-------------------+\n",
      "|          Event_time|        Hashtags|                Text|            TweetID|             UserID|\n",
      "+--------------------+----------------+--------------------+-------------------+-------------------+\n",
      "|Tue Jul 27 19:16:...|       Tokyo2020|RT @JulesBoykoff:...|1420100685702434817|1070415931933782016|\n",
      "|Tue Jul 27 19:16:...|        Olympics|RT @folkypunkcas:...|1420100687548096513|          412372061|\n",
      "|Tue Jul 27 19:16:...|        Olympics|My #Olympics swim...|1420100692983812097|           21517602|\n",
      "|Tue Jul 27 19:16:...|        Olympics|RT @ajplus: Alger...|1420100695957467137|1275517229010845696|\n",
      "|Tue Jul 27 19:16:...|       JillBiden|Hear, hear! You g...|1420100699132612608|          103012051|\n",
      "|Tue Jul 27 19:16:...|        Olympics|Good news: gymnas...|1420100699203936262|           71291093|\n",
      "|Tue Jul 27 19:16:...|       Tokyo2020|RT @ESPNIndia: Is...|1420100704354521089|1192695949547556865|\n",
      "|Tue Jul 27 19:16:...|             CAN|RT @Olympics: Mau...|1420100707521335296|           24447473|\n",
      "|Tue Jul 27 19:16:...|        Olympics|Phoebe totally ge...|1420100708607610880|         2218523600|\n",
      "|Tue Jul 27 19:16:...|             ROC|RT @JesuisShyam: ...|1420100711832899584|         1461144703|\n",
      "|Tue Jul 27 19:16:...|       Tokyo2020|RT @michaeldickso...|1420100713158434818|1313712505236140032|\n",
      "|Tue Jul 27 19:16:...|           China|RT @MinkysHighjin...|1420100713401749506| 804268282643677185|\n",
      "|Tue Jul 27 19:16:...|StrongerTogether|RT @Olympics: Did...|1420100723933581316|           46967220|\n",
      "|Tue Jul 27 19:16:...|    DriveYouHome|RT @OnAirJRDN: Th...|1420100727133900807|1268253403223908354|\n",
      "|Tue Jul 27 19:16:...|         Spanish|RT @assemblea_int...|1420100734662631429| 989559101855358976|\n",
      "|Tue Jul 27 19:16:...|       Triathlon|RT @Olympics: Gol...|1420100735983890435|         1077992828|\n",
      "|Tue Jul 27 19:16:...|   TokyoOlympics|It is bound to be...|1420100736973746176|           14955353|\n",
      "|Tue Jul 27 19:16:...|        Olympics|RT @ajplus: Alger...|1420100737837764608|         2881531061|\n",
      "|Tue Jul 27 19:16:...|           ICYMI|#ICYMI #Aloha spi...|1420100740014612484|         4196309234|\n",
      "|Tue Jul 27 19:16:...|        Olympics|RT @ajplus: UPDAT...|1420100740568207364|          246281752|\n",
      "+--------------------+----------------+--------------------+-------------------+-------------------+\n",
      "only showing top 20 rows\n",
      "\n",
      "Last 30 seconds:\n",
      "+--------------------+-------------+--------------------+-------------------+-------------------+\n",
      "|          Event_time|     Hashtags|                Text|            TweetID|             UserID|\n",
      "+--------------------+-------------+--------------------+-------------------+-------------------+\n",
      "|Tue Jul 27 19:16:...|     olympics|RT @chipgoines: S...|1420100815520366592|          724416918|\n",
      "|Tue Jul 27 19:16:...|weightlifting|RT @iingwen: Cong...|1420100818552774656|1140471288592343040|\n",
      "|Tue Jul 27 19:16:...|     Olympics|Is it just me tha...|1420100820348112897|          376206071|\n",
      "|Tue Jul 27 19:16:...|   MTVHottest|Yaaaaas\n",
      "#MTVHotte...|1420100821165948931|1288223136455024641|\n",
      "|Tue Jul 27 19:16:...|     Olympics|Obviously, skateb...|1420100821358981131| 976490019165822976|\n",
      "|Tue Jul 27 19:16:...|  SimoneBiles|RT @DineshDSouza:...|1420100823116181506| 927257911516004352|\n",
      "|Tue Jul 27 19:16:...|    Tokyo2020|RT @cyclingtips: ...|1420100823539924993|         2831543669|\n",
      "|Tue Jul 27 19:16:...|          NGA|RT @Olympics: Coa...|1420100824030658565| 715928664194596865|\n",
      "|Tue Jul 27 19:16:...|          GBR|RT @Olympics: #GB...|1420100828807958533|         1077992828|\n",
      "|Tue Jul 27 19:16:...|  Palestinian|RT @gazaapost: Th...|1420100829076508684|1394921953652322304|\n",
      "|Tue Jul 27 19:16:...|          NGA|RT @Olympics: Coa...|1420100829273526272|         1194335394|\n",
      "|Tue Jul 27 19:16:...|TokyoOlympics|RT @NBCOlympics: ...|1420100830196293634|1324515044009398275|\n",
      "|Tue Jul 27 19:16:...|         genx|I think Biles des...|1420100830418583555|          300098168|\n",
      "|Tue Jul 27 19:16:...|     Olympics|RT @DionneGrant: ...|1420100832792653826|         1059273788|\n",
      "|Tue Jul 27 19:16:...|     Olympics|RT @iamstake: Saw...|1420100833966845956| 926313548485144576|\n",
      "|Tue Jul 27 19:16:...|          PHI|RT @tonyocruz: TH...|1420100837032947712|         1616790074|\n",
      "|Tue Jul 27 19:16:...|          MEX|RT @Olympics: It'...|1420100837523828736|          142885766|\n",
      "|Tue Jul 27 19:16:...|       amazon|It is super easy ...|1420100838022909956|1394164901631852548|\n",
      "|Tue Jul 27 19:16:...|     Olympics|RT @folkypunkcas:...|1420100842024222721|1258519441408745472|\n",
      "|Tue Jul 27 19:16:...|     Swimming|RT @Olympics: It'...|1420100842217160705|         1077992828|\n",
      "+--------------------+-------------+--------------------+-------------------+-------------------+\n",
      "only showing top 20 rows\n",
      "\n",
      "Entire running duration (5 minutes):\n",
      "+--------------------+--------------------+--------------------+-------------------+-------------------+\n",
      "|          Event_time|            Hashtags|                Text|            TweetID|             UserID|\n",
      "+--------------------+--------------------+--------------------+-------------------+-------------------+\n",
      "|Tue Jul 27 19:12:...|    StrongerTogether|RT @Olympics: Did...|1420099677043703812|1412261447254614016|\n",
      "|Tue Jul 27 19:12:...|            Olympics|Can Lutalo Muhamm...|1420099682039209990|          413809300|\n",
      "|Tue Jul 27 19:12:...|                 NGA|RT @Olympics: Coa...|1420099682840240129|1345700670029103105|\n",
      "|Tue Jul 27 19:12:...|              Silver|RT @Olympics: #Si...|1420099682999676936|           63890475|\n",
      "|Tue Jul 27 19:12:...|           Tokyo2020|RT @CubaSolidarit...|1420099683414953987|           21202355|\n",
      "|Tue Jul 27 19:12:...|             surfing|RT @Olympics: We ...|1420099685243445249|1229014788539174912|\n",
      "|Tue Jul 27 19:12:...|                 TPE|RT @Olympics: Che...|1420099687642664960|         3067872620|\n",
      "|Tue Jul 27 19:12:...|            Olympics|RT @martyduren: L...|1420099688351547397|         4840388273|\n",
      "|Tue Jul 27 19:12:...|           Tokyo2020|RT @nytimes: Brea...|1420099688305397765|          468095215|\n",
      "|Tue Jul 27 19:12:...|            Olympics|RT @ajplus: Alger...|1420099688632565762| 819633654314008576|\n",
      "|Tue Jul 27 19:12:...|            Olympics|RT @ajplus: Alger...|1420099689068867585| 791656012533170176|\n",
      "|Tue Jul 27 19:12:...|              TeamGB|RT @TeamGB: Top o...|1420099689081446407|          385811349|\n",
      "|Tue Jul 27 19:12:...|BoycottTokyoOlymp...|RT @178kakapo: #B...|1420099689232408577|         2858606275|\n",
      "|Tue Jul 27 19:12:...|            Olympics|RT @alliecraigsli...|1420099689433681921|          194573703|\n",
      "|Tue Jul 27 19:12:...|             Dreamer|BLUE SUMMER WITH ...|1420099692365590531|         1389790038|\n",
      "|Tue Jul 27 19:12:...|        MaineMendoza|RT @stargirl_v: @...|1420099693179191302|1007507591822536704|\n",
      "|Tue Jul 27 19:12:...|                Nets|RT @NYPost_Lewis:...|1420099695121211393|1398061324521906176|\n",
      "|Tue Jul 27 19:12:...|          Volleyball|RT @LMsources: Se...|1420099696970715137|1349989050980003842|\n",
      "|Tue Jul 27 19:12:...|            Malaysia|RT @Ostrov_A: Oh,...|1420099697482498050|          981948554|\n",
      "|Tue Jul 27 19:12:...|            Olympics|RT @enews: Celebr...|1420099698610909196| 926952543158243328|\n",
      "+--------------------+--------------------+--------------------+-------------------+-------------------+\n",
      "only showing top 20 rows\n",
      "\n"
     ]
    }
   ],
   "source": [
    "import time\n",
    "consumer = KafkaConsumer('twitter', group_id=None, auto_offset_reset='latest', bootstrap_servers=['localhost:9092'], value_deserializer=lambda m: json.loads(m)) \n",
    "avg_hashtag = []\n",
    "minutes = []\n",
    "rows = []\n",
    "window = []\n",
    "\n",
    "\n",
    "timer = time.time() + 30\n",
    "minute_timer = time.time() + 60\n",
    "end = time.time() + 300\n",
    "for msg in consumer:\n",
    "    row = json.loads(json.dumps(msg.value))\n",
    "    if 'entities' in row:\n",
    "        if len(row['entities']['hashtags']) > 0:\n",
    "            hashtag_text = row['entities']['hashtags'][0]['text']\n",
    "        else:\n",
    "            continue\n",
    "            hashtag_text = row['entities']['hashtags']\n",
    "                                           \n",
    "        #Set up stream format\n",
    "        row = Row(TweetID=row['id'], Text=row['text'], UserID=row['user']['id'], Hashtags=hashtag_text, Event_time=row['created_at'])\n",
    "        minutes.append(row)\n",
    "        rows.append(row)\n",
    "        window.append(row)\n",
    "\n",
    "    if (time.time() >= minute_timer):\n",
    "        minute_timer += 60\n",
    "        minute = spark.createDataFrame(minutes)\n",
    "        minutes = []\n",
    "        avg_hashtag.append(minute)\n",
    "        \n",
    "    if (time.time() >= end):\n",
    "        tweetsdf1 = spark.createDataFrame(window)\n",
    "        print('Last 30 seconds:')\n",
    "        tweetsdf1.show()\n",
    "        tweetsdf2 = spark.createDataFrame(rows)\n",
    "        print('Entire running duration (5 minutes):')\n",
    "        tweetsdf2.show()\n",
    "        break\n",
    "        \n",
    "    if (time.time() >= timer):\n",
    "        timer += 30\n",
    "        sample = spark.createDataFrame(window)\n",
    "        print('30 second window:')\n",
    "        sample.show()\n",
    "        window = []"
   ]
  },
  {
   "cell_type": "code",
   "execution_count": 8,
   "metadata": {},
   "outputs": [],
   "source": [
    "tweetsdf1.createOrReplaceTempView('df1')\n",
    "tweetsdf1.write.mode('append').saveAsTable('df1')\n",
    "\n",
    "tweetsdf2.createOrReplaceTempView('df2')\n",
    "tweetsdf2.write.mode('append').saveAsTable('df2')"
   ]
  },
  {
   "cell_type": "markdown",
   "metadata": {},
   "source": [
    "7a"
   ]
  },
  {
   "cell_type": "code",
   "execution_count": 10,
   "metadata": {},
   "outputs": [
    {
     "name": "stdout",
     "output_type": "stream",
     "text": [
      "+-------------+\n",
      "|Num_of_Tweets|\n",
      "+-------------+\n",
      "|           53|\n",
      "+-------------+\n",
      "\n"
     ]
    }
   ],
   "source": [
    "num_tweets = spark.sql('select count(TweetID) as Num_of_Tweets from df1')\n",
    "num_tweets.show()"
   ]
  },
  {
   "cell_type": "markdown",
   "metadata": {},
   "source": [
    "7b"
   ]
  },
  {
   "cell_type": "code",
   "execution_count": 11,
   "metadata": {},
   "outputs": [
    {
     "name": "stdout",
     "output_type": "stream",
     "text": [
      "+------------+\n",
      "|Active_Users|\n",
      "+------------+\n",
      "|          45|\n",
      "+------------+\n",
      "\n"
     ]
    }
   ],
   "source": [
    "spark.sql('select count(distinct UserID) as Active_Users from df1').show()"
   ]
  },
  {
   "cell_type": "markdown",
   "metadata": {},
   "source": [
    "7c"
   ]
  },
  {
   "cell_type": "code",
   "execution_count": 12,
   "metadata": {},
   "outputs": [
    {
     "name": "stdout",
     "output_type": "stream",
     "text": [
      "+--------+-----+\n",
      "|Hashtags|Count|\n",
      "+--------+-----+\n",
      "|Olympics|   16|\n",
      "+--------+-----+\n",
      "\n"
     ]
    }
   ],
   "source": [
    "spark.sql('select Hashtags, count(Hashtags) as Count from df1 group by Hashtags order by Count desc limit 1').show()"
   ]
  },
  {
   "cell_type": "markdown",
   "metadata": {},
   "source": [
    "7d"
   ]
  },
  {
   "cell_type": "code",
   "execution_count": 13,
   "metadata": {},
   "outputs": [
    {
     "name": "stdout",
     "output_type": "stream",
     "text": [
      "+--------+-----+\n",
      "|Hashtags|Count|\n",
      "+--------+-----+\n",
      "|Olympics|  185|\n",
      "+--------+-----+\n",
      "\n"
     ]
    }
   ],
   "source": [
    "spark.sql('select Hashtags, count(Hashtags) as Count from df2 group by Hashtags order by Count desc limit 1').show()"
   ]
  },
  {
   "cell_type": "markdown",
   "metadata": {},
   "source": [
    "7e"
   ]
  },
  {
   "cell_type": "code",
   "execution_count": 14,
   "metadata": {},
   "outputs": [
    {
     "name": "stdout",
     "output_type": "stream",
     "text": [
      "+-----+\n",
      "|Count|\n",
      "+-----+\n",
      "|   32|\n",
      "+-----+\n",
      "\n",
      "+-----+\n",
      "|Count|\n",
      "+-----+\n",
      "|   34|\n",
      "+-----+\n",
      "\n",
      "+-----+\n",
      "|Count|\n",
      "+-----+\n",
      "|   47|\n",
      "+-----+\n",
      "\n",
      "+-----+\n",
      "|Count|\n",
      "+-----+\n",
      "|   39|\n",
      "+-----+\n",
      "\n",
      "+-----+\n",
      "|Count|\n",
      "+-----+\n",
      "|   33|\n",
      "+-----+\n",
      "\n"
     ]
    }
   ],
   "source": [
    "for i in avg_hashtag:\n",
    "    i.createOrReplaceTempView('minute')\n",
    "    spark.sql('select count(Hashtags) as Count from minute where Hashtags = \"Olympics\"').show()"
   ]
  },
  {
   "cell_type": "markdown",
   "metadata": {},
   "source": [
    "8"
   ]
  },
  {
   "cell_type": "code",
   "execution_count": 15,
   "metadata": {},
   "outputs": [],
   "source": [
    "num_tweets.write.mode('overwrite').saveAsTable('number_of_tweets')"
   ]
  },
  {
   "cell_type": "code",
   "execution_count": 16,
   "metadata": {
    "scrolled": true
   },
   "outputs": [
    {
     "name": "stdout",
     "output_type": "stream",
     "text": [
      "+--------+----------------+-----------+\n",
      "|database|       tableName|isTemporary|\n",
      "+--------+----------------+-----------+\n",
      "| default|             df1|      false|\n",
      "| default|             df2|      false|\n",
      "| default|        employee|      false|\n",
      "| default|number_of_tweets|      false|\n",
      "| default|             src|      false|\n",
      "|        |             df1|       true|\n",
      "|        |             df2|       true|\n",
      "|        |          minute|       true|\n",
      "+--------+----------------+-----------+\n",
      "\n"
     ]
    }
   ],
   "source": [
    "spark.sql('show tables').show()"
   ]
  },
  {
   "cell_type": "code",
   "execution_count": 17,
   "metadata": {},
   "outputs": [
    {
     "name": "stdout",
     "output_type": "stream",
     "text": [
      "+-------------+\n",
      "|Num_of_Tweets|\n",
      "+-------------+\n",
      "|           53|\n",
      "+-------------+\n",
      "\n"
     ]
    }
   ],
   "source": [
    "spark.sql('select * from number_of_tweets').show()"
   ]
  },
  {
   "cell_type": "code",
   "execution_count": null,
   "metadata": {},
   "outputs": [],
   "source": []
  }
 ],
 "metadata": {
  "kernelspec": {
   "display_name": "Python 3",
   "language": "python",
   "name": "python3"
  },
  "language_info": {
   "codemirror_mode": {
    "name": "ipython",
    "version": 3
   },
   "file_extension": ".py",
   "mimetype": "text/x-python",
   "name": "python",
   "nbconvert_exporter": "python",
   "pygments_lexer": "ipython3",
   "version": "3.7.4"
  }
 },
 "nbformat": 4,
 "nbformat_minor": 2
}
